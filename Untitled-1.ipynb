{
 "cells": [
  {
   "cell_type": "code",
   "execution_count": 1,
   "metadata": {},
   "outputs": [
    {
     "name": "stdout",
     "output_type": "stream",
     "text": [
      "Original shapes: tensor_A = torch.Size([3, 2]), tensor_B =torch.Size([3, 2])\n",
      "New shapes: tensor_A = torch.Size([3, 2])(same shape as above), tensor_B.T = torch.Size([2, 3])\n",
      "Multiplying:torch.Size([3, 2]) @ torch.Size([2, 3]) <-inner dimisions must match\n",
      "Output:\n",
      "\n",
      "tensor([[ 27,  30,  33],\n",
      "        [ 61,  68,  75],\n",
      "        [ 95, 106, 117]])\n",
      "Output shape: torch.Size([3, 3])\n"
     ]
    }
   ],
   "source": [
    "import torch\n",
    "tensor_A = torch.tensor([[1, 2],\n",
    "                         [3, 4],\n",
    "                         [5, 6]])\n",
    "\n",
    "# Define tensor_B\n",
    "tensor_B = torch.tensor([[7, 10],\n",
    "                         [8, 11],\n",
    "                         [9, 12]])\n",
    "#the matrix multiplication operation works when tensor B is transposed\n",
    "print(f\"Original shapes: tensor_A = {tensor_A.shape}, tensor_B ={tensor_B.shape}\")\n",
    "print(f\"New shapes: tensor_A = {tensor_A.shape}(same shape as above), tensor_B.T = {tensor_B.T.shape}\")\n",
    "print(f\"Multiplying:{tensor_A.shape} @ {tensor_B.T.shape} <-inner dimisions must match\")\n",
    "# Perform matrix multiplication\n",
    "print(\"Output:\\n\")\n",
    "Output = torch.matmul(tensor_A, tensor_B.T)\n",
    "print(Output)\n",
    "print(f\"Output shape: {Output.shape}\")"
   ]
  },
  {
   "cell_type": "code",
   "execution_count": null,
   "metadata": {},
   "outputs": [],
   "source": []
  }
 ],
 "metadata": {
  "kernelspec": {
   "display_name": "pytorch_env",
   "language": "python",
   "name": "python3"
  },
  "language_info": {
   "codemirror_mode": {
    "name": "ipython",
    "version": 3
   },
   "file_extension": ".py",
   "mimetype": "text/x-python",
   "name": "python",
   "nbconvert_exporter": "python",
   "pygments_lexer": "ipython3",
   "version": "3.10.16"
  }
 },
 "nbformat": 4,
 "nbformat_minor": 2
}
