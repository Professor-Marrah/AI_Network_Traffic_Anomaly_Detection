{
 "cells": [
  {
   "cell_type": "code",
   "execution_count": 204,
   "metadata": {},
   "outputs": [],
   "source": [
    "import torch\n",
    "from torch import nn # nn contain all of pythorchs building blocks for neural network\n",
    "import matplotlib.pyplot as plt\n",
    "import numpy as np  # Import the NumPy library for numerical operations\n",
    "import torch.optim as optim\n",
    "\n",
    "# chexk pytorch version\n",
    "#import torch\n",
    "#print(torch.__version__)  # Prints the version of PyTorch  \n"
   ]
  },
  {
   "cell_type": "code",
   "execution_count": 205,
   "metadata": {},
   "outputs": [
    {
     "data": {
      "text/plain": [
       "(tensor([[0.0000],\n",
       "         [0.0200],\n",
       "         [0.0400],\n",
       "         [0.0600],\n",
       "         [0.0800],\n",
       "         [0.1000],\n",
       "         [0.1200],\n",
       "         [0.1400],\n",
       "         [0.1600],\n",
       "         [0.1800]]),\n",
       " tensor([[0.0300],\n",
       "         [0.0440],\n",
       "         [0.0580],\n",
       "         [0.0720],\n",
       "         [0.0860],\n",
       "         [0.1000],\n",
       "         [0.1140],\n",
       "         [0.1280],\n",
       "         [0.1420],\n",
       "         [0.1560]]))"
      ]
     },
     "execution_count": 205,
     "metadata": {},
     "output_type": "execute_result"
    }
   ],
   "source": [
    "# Create Known Parameters\n",
    "weight = 0.7\n",
    "bias = 0.03\n",
    "\n",
    "# create\n",
    "start = 0 \n",
    "end = 1\n",
    "step = 0.02\n",
    "X = torch.arange(start, end, step). unsqueeze(dim=1)\n",
    "y = weight * X + bias\n",
    "X[:10], y[:10]\n"
   ]
  },
  {
   "cell_type": "code",
   "execution_count": 206,
   "metadata": {},
   "outputs": [
    {
     "data": {
      "text/plain": [
       "(50, 50)"
      ]
     },
     "execution_count": 206,
     "metadata": {},
     "output_type": "execute_result"
    }
   ],
   "source": [
    "len(X), len(y)"
   ]
  },
  {
   "cell_type": "code",
   "execution_count": 207,
   "metadata": {},
   "outputs": [
    {
     "data": {
      "text/plain": [
       "(40, 40, 10, 10)"
      ]
     },
     "execution_count": 207,
     "metadata": {},
     "output_type": "execute_result"
    }
   ],
   "source": [
    "# splitting data into training and test set (one of the most inpotant concepts in machine learning)\n",
    "train_split = int(0.8 * len(X))\n",
    "X_train, y_train = X[:train_split], y[:train_split]\n",
    "X_test, y_test =X[train_split:], y[train_split:]\n",
    "len(X_train), len(y_train), len(X_test), len(y_test)\n"
   ]
  },
  {
   "cell_type": "markdown",
   "metadata": {},
   "source": [
    "How might we better visualize our data?\n",
    "this is were the data explorer's motto comes in!\n",
    "\"VISUALIZE, VISUALIZE, VISUALIZE\""
   ]
  },
  {
   "cell_type": "code",
   "execution_count": 208,
   "metadata": {},
   "outputs": [],
   "source": [
    "\n",
    "\n",
    "def plot_predictions(train_data=X_train,\n",
    "                     train_labels=y_train,\n",
    "                     test_data=X_test,\n",
    "                     test_labels=y_test,\n",
    "                     predictions=None):\n",
    "    \"\"\"\n",
    "    Plots training data, test data, and compares predictions.\n",
    "    \"\"\"\n",
    "    plt.figure(figsize=(10, 7))\n",
    "\n",
    "    # Plot training data in blue\n",
    "    plt.scatter(train_data, train_labels, c=\"b\", s=4, label=\"Training data\")\n",
    "\n",
    "    # Plot test data in green\n",
    "    plt.scatter(test_data, test_labels, c=\"g\", s=4, label=\"Testing Data\")\n",
    "\n",
    "    # Check if predictions exist\n",
    "    if predictions is not None:\n",
    "        predictions = predictions.squeeze().detach().numpy()  # Ensure predictions have the correct shape\n",
    "        plt.scatter(test_data, predictions, c=\"r\", s=4, label=\"Predictions\")  # Plot predictions in red\n",
    "\n",
    "    # Show the legend\n",
    "    plt.legend(prop={\"size\": 14})\n",
    "    plt.show()\n",
    "          \n",
    "          \n",
    "\n",
    " "
   ]
  },
  {
   "cell_type": "code",
   "execution_count": 209,
   "metadata": {},
   "outputs": [
    {
     "data": {
      "image/png": "[encoded data removed]",
      "text/plain": [
       "<Figure size 1000x700 with 1 Axes>"
      ]
     },
     "metadata": {},
     "output_type": "display_data"
    }
   ],
   "source": [
    "plot_predictions();\n"
   ]
  },
  {
   "cell_type": "markdown",
   "metadata": {},
   "source": [
    "2. Build Mode;\n",
    "Our first Pytorch model\n",
    "this is very exciting. lets do its!\n"
   ]
  },
  {
   "cell_type": "code",
   "execution_count": 210,
   "metadata": {},
   "outputs": [
    {
     "name": "stdout",
     "output_type": "stream",
     "text": [
      "LinearRegressionModel()\n"
     ]
    }
   ],
   "source": [
    "\n",
    "\n",
    "# Create linear Regression Model \n",
    "class LinearRegressionModel(nn.Module):  # <- almost everything in pytorch inherits nn.Module\n",
    "    def __init__(self):\n",
    "        super().__init__()\n",
    "        self.weights = nn.Parameter(torch.randn(1, requires_grad=True, dtype=torch.float))\n",
    "        self.bias = nn.Parameter(torch.randn(1, requires_grad=True, dtype=torch.float))\n",
    "\n",
    "    # forward method to define the computation in the model \n",
    "    def forward(self, X: torch.Tensor) -> torch.Tensor:  # <- this line must be indented inside the class\n",
    "        return self.weights * X + self.bias  # this is the linear regression formula\n",
    "\n",
    "# Create an instance of the model\n",
    "model_0 = LinearRegressionModel()\n",
    "\n",
    "# Print model to ensure it is correctly instantiated\n",
    "print(model_0)\n",
    "\n",
    "      \n",
    "    \n"
   ]
  },
  {
   "cell_type": "code",
   "execution_count": 154,
   "metadata": {},
   "outputs": [
    {
     "data": {
      "text/plain": [
       "tensor([0.3367])"
      ]
     },
     "execution_count": 154,
     "metadata": {},
     "output_type": "execute_result"
    }
   ],
   "source": [
    "torch.manual_seed(42)\n",
    "torch.randn(1)\n"
   ]
  },
  {
   "cell_type": "code",
   "execution_count": 211,
   "metadata": {},
   "outputs": [
    {
     "name": "stdout",
     "output_type": "stream",
     "text": [
      "LinearRegressionModel()\n"
     ]
    },
    {
     "data": {
      "text/plain": [
       "[Parameter containing:\n",
       " tensor([1.1561], requires_grad=True),\n",
       " Parameter containing:\n",
       " tensor([0.3965], requires_grad=True)]"
      ]
     },
     "execution_count": 211,
     "metadata": {},
     "output_type": "execute_result"
    }
   ],
   "source": [
    "#torch.manual_seed(42)\n",
    "\n",
    "# Create an instance of the LinearRegressionmedel class\n",
    "model_0 = LinearRegressionModel()\n",
    "print(model_0)\n",
    "\n",
    "list (model_0.parameters())\n"
   ]
  },
  {
   "cell_type": "code",
   "execution_count": 212,
   "metadata": {},
   "outputs": [
    {
     "data": {
      "text/plain": [
       "OrderedDict([('weights', tensor([1.1561])), ('bias', tensor([0.3965]))])"
      ]
     },
     "execution_count": 212,
     "metadata": {},
     "output_type": "execute_result"
    }
   ],
   "source": [
    "# List named oarameters\n",
    "model_0.state_dict()"
   ]
  },
  {
   "cell_type": "code",
   "execution_count": 213,
   "metadata": {},
   "outputs": [
    {
     "name": "stdout",
     "output_type": "stream",
     "text": [
      "tensor([[1.3214],\n",
      "        [1.3445],\n",
      "        [1.3676],\n",
      "        [1.3907],\n",
      "        [1.4139],\n",
      "        [1.4370],\n",
      "        [1.4601],\n",
      "        [1.4832],\n",
      "        [1.5064],\n",
      "        [1.5295]])\n"
     ]
    }
   ],
   "source": [
    "# making prediction using torch.inference_mode()\n",
    "# make prediction model\n",
    "\n",
    "# you can also do something similiar with torch.n_grade() however, torch.inference_mode() is preferred\n",
    "#with torch.no_grad():\n",
    "# y_preds = model_0(X_test)\n",
    "# print(y_preds)\n",
    "\n",
    "with torch.inference_mode():\n",
    "  y_preds = model_0(X_test)\n",
    "\n",
    "# Output predictions\n",
    "print(y_preds)\n",
    "\n"
   ]
  },
  {
   "cell_type": "code",
   "execution_count": 214,
   "metadata": {},
   "outputs": [
    {
     "data": {
      "text/plain": [
       "tensor([[0.5900],\n",
       "        [0.6040],\n",
       "        [0.6180],\n",
       "        [0.6320],\n",
       "        [0.6460],\n",
       "        [0.6600],\n",
       "        [0.6740],\n",
       "        [0.6880],\n",
       "        [0.7020],\n",
       "        [0.7160]])"
      ]
     },
     "execution_count": 214,
     "metadata": {},
     "output_type": "execute_result"
    }
   ],
   "source": [
    "y_test"
   ]
  },
  {
   "cell_type": "code",
   "execution_count": 216,
   "metadata": {},
   "outputs": [
    {
     "data": {
      "image/png": "[encoded data removed]",
      "text/plain": [
       "<Figure size 1000x700 with 1 Axes>"
      ]
     },
     "metadata": {},
     "output_type": "display_data"
    }
   ],
   "source": [
    "plot_predictions(predictions=y_preds)"
   ]
  },
  {
   "cell_type": "code",
   "execution_count": 217,
   "metadata": {},
   "outputs": [
    {
     "data": {
      "text/plain": [
       "tensor([[1.3214],\n",
       "        [1.3445],\n",
       "        [1.3676],\n",
       "        [1.3907],\n",
       "        [1.4139],\n",
       "        [1.4370],\n",
       "        [1.4601],\n",
       "        [1.4832],\n",
       "        [1.5064],\n",
       "        [1.5295]], grad_fn=<AddBackward0>)"
      ]
     },
     "execution_count": 217,
     "metadata": {},
     "output_type": "execute_result"
    }
   ],
   "source": [
    "y_pred = model_0(X_test)\n",
    "y_pred"
   ]
  },
  {
   "cell_type": "markdown",
   "metadata": {},
   "source": [
    "CHECKING THE CONTENT OF PYTROCH MODEL\n"
   ]
  },
  {
   "cell_type": "code",
   "execution_count": 218,
   "metadata": {},
   "outputs": [
    {
     "data": {
      "text/plain": [
       "['weights', 'bias']"
      ]
     },
     "execution_count": 218,
     "metadata": {},
     "output_type": "execute_result"
    }
   ],
   "source": [
    "# Create a random seed\n",
    "torch.manual_seed(42)\n",
    "\n",
    "# Create an instance of the model (this is a subclass of nn.Module)\n",
    "model_0 = LinearRegressionModel()  # Ensure the class name is correct\n",
    "\n",
    "# Check out model's parameters (a parameter is a value that the model sets itself)\n",
    "list(model_0.state_dict())  # This will print the names of the parameters\n"
   ]
  },
  {
   "cell_type": "code",
   "execution_count": 162,
   "metadata": {},
   "outputs": [
    {
     "data": {
      "text/plain": [
       "OrderedDict([('weights', tensor([0.3367])), ('bias', tensor([0.1288]))])"
      ]
     },
     "execution_count": 162,
     "metadata": {},
     "output_type": "execute_result"
    }
   ],
   "source": [
    "# LIST NAMED PARAMATERS\n",
    "model_0.state_dict()"
   ]
  },
  {
   "cell_type": "code",
   "execution_count": 163,
   "metadata": {},
   "outputs": [],
   "source": [
    "# setup a loss function\n",
    "loss_fn = nn.L1Loss()\n",
    "\n",
    "# setup an optimizer (stochastic gradent descent)\n",
    "optimizer = torch.optim.SGD(params=model_0.parameters(), # we want to optimize the parameters present in our medel\n",
    "                            lr=0.01) # lr = learning reate = possible the most important hyperparameter you can set "
   ]
  },
  {
   "cell_type": "markdown",
   "metadata": {},
   "source": [
    "BUILDING A TRAINING LOOP(AND TESTING LOOP) IN PYTORCH"
   ]
  },
  {
   "cell_type": "code",
   "execution_count": 164,
   "metadata": {},
   "outputs": [
    {
     "name": "stdout",
     "output_type": "stream",
     "text": [
      "Epoch: 0 | Train loss: 0.0790 | Test loss: 0.2189\n",
      "Epoch: 10 | Train loss: 0.0679 | Test loss: 0.1781\n",
      "Epoch: 20 | Train loss: 0.0630 | Test loss: 0.1556\n",
      "Epoch: 30 | Train loss: 0.0593 | Test loss: 0.1426\n",
      "Epoch: 40 | Train loss: 0.0558 | Test loss: 0.1315\n",
      "Epoch: 50 | Train loss: 0.0523 | Test loss: 0.1219\n",
      "Epoch: 60 | Train loss: 0.0489 | Test loss: 0.1136\n",
      "Epoch: 70 | Train loss: 0.0454 | Test loss: 0.1054\n",
      "Epoch: 80 | Train loss: 0.0420 | Test loss: 0.0978\n",
      "Epoch: 90 | Train loss: 0.0386 | Test loss: 0.0895\n",
      "Epoch: 100 | Train loss: 0.0351 | Test loss: 0.0812\n",
      "Epoch: 110 | Train loss: 0.0317 | Test loss: 0.0736\n",
      "Epoch: 120 | Train loss: 0.0283 | Test loss: 0.0654\n",
      "Epoch: 130 | Train loss: 0.0248 | Test loss: 0.0571\n",
      "Epoch: 140 | Train loss: 0.0214 | Test loss: 0.0495\n",
      "Epoch: 150 | Train loss: 0.0180 | Test loss: 0.0412\n",
      "Epoch: 160 | Train loss: 0.0145 | Test loss: 0.0330\n",
      "Epoch: 170 | Train loss: 0.0111 | Test loss: 0.0254\n",
      "Epoch: 180 | Train loss: 0.0077 | Test loss: 0.0171\n",
      "Epoch: 190 | Train loss: 0.0042 | Test loss: 0.0088\n",
      "\n",
      "Final Model Parameters:\n",
      "OrderedDict([('weights', tensor([0.6914])), ('bias', tensor([0.0258]))])\n"
     ]
    }
   ],
   "source": [
    "# Set random seed for reproducibility\n",
    "torch.manual_seed(42)\n",
    "\n",
    "# Define the number of epochs (hyperparameter)\n",
    "epochs = 200\n",
    "\n",
    "# Initialize tracking lists for visualization\n",
    "epoch_count = []\n",
    "loss_values = []\n",
    "test_loss_values = []\n",
    "\n",
    "#### Training Loop\n",
    "for epoch in range(epochs):\n",
    "    # Set the model to training mode\n",
    "    model_0.train()\n",
    "\n",
    "    # 1. Forward pass\n",
    "    y_pred = model_0(X_train)\n",
    "\n",
    "    # 2. Calculate the training loss\n",
    "    loss = loss_fn(y_pred, y_train)\n",
    "\n",
    "    # 3. Zero the gradients\n",
    "    optimizer.zero_grad()\n",
    "\n",
    "    # 4. Backpropagation\n",
    "    loss.backward()\n",
    "\n",
    "    # 5. Perform optimizer step (gradient descent)\n",
    "    optimizer.step()\n",
    "\n",
    "    # Evaluate the model every 10 epochs\n",
    "    if epoch % 10 == 0:\n",
    "        # Set the model to evaluation mode\n",
    "        model_0.eval()\n",
    "\n",
    "        with torch.inference_mode():\n",
    "            # Forward pass for test set\n",
    "            test_pred = model_0(X_test)\n",
    "\n",
    "            # Calculate test loss\n",
    "            test_loss = loss_fn(test_pred, y_test)\n",
    "\n",
    "        # Append current epoch and losses to tracking lists\n",
    "        epoch_count.append(epoch)\n",
    "        loss_values.append(loss.item())  # Convert tensor to scalar\n",
    "        test_loss_values.append(test_loss.item())  # Convert tensor to scalar\n",
    "\n",
    "        # Print progress\n",
    "        print(f\"Epoch: {epoch} | Train loss: {loss.item():.4f} | Test loss: {test_loss.item():.4f}\")\n",
    "\n",
    "# Final Model State\n",
    "print(\"\\nFinal Model Parameters:\")\n",
    "print(model_0.state_dict())\n",
    "\n"
   ]
  },
  {
   "cell_type": "code",
   "execution_count": 165,
   "metadata": {},
   "outputs": [
    {
     "name": "stdout",
     "output_type": "stream",
     "text": [
      "20 20\n"
     ]
    }
   ],
   "source": [
    "print(len(epoch_count), len(test_loss_values))"
   ]
  },
  {
   "cell_type": "code",
   "execution_count": 166,
   "metadata": {},
   "outputs": [
    {
     "data": {
      "text/plain": [
       "(array([0.07898675, 0.06792658, 0.06296793, 0.05927761, 0.0557876 ,\n",
       "        0.05231064, 0.04888219, 0.04544558, 0.04200868, 0.03858023,\n",
       "        0.03514195, 0.03170671, 0.02827712, 0.02483831, 0.02140476,\n",
       "        0.01797349, 0.01453468, 0.01110279, 0.00766986, 0.00423104],\n",
       "       dtype=float32),\n",
       " [0.21887502074241638,\n",
       "  0.17809264361858368,\n",
       "  0.1556178778409958,\n",
       "  0.1425638347864151,\n",
       "  0.13154374063014984,\n",
       "  0.12189748138189316,\n",
       "  0.11362500488758087,\n",
       "  0.10535252094268799,\n",
       "  0.09776696562767029,\n",
       "  0.08949454128742218,\n",
       "  0.08122209459543228,\n",
       "  0.07363653182983398,\n",
       "  0.06536411494016647,\n",
       "  0.05709168314933777,\n",
       "  0.049506109207868576,\n",
       "  0.04123368114233017,\n",
       "  0.03296126797795296,\n",
       "  0.025375699624419212,\n",
       "  0.01710321381688118,\n",
       "  0.008830791339278221])"
      ]
     },
     "execution_count": 166,
     "metadata": {},
     "output_type": "execute_result"
    }
   ],
   "source": [
    "import numpy as np\n",
    "np.array(torch.tensor(loss_values).numpy()), test_loss_values"
   ]
  },
  {
   "cell_type": "code",
   "execution_count": 167,
   "metadata": {},
   "outputs": [
    {
     "data": {
      "image/png": "[encoded data removed]",
      "text/plain": [
       "<Figure size 640x480 with 1 Axes>"
      ]
     },
     "metadata": {},
     "output_type": "display_data"
    }
   ],
   "source": [
    "\n",
    "# Plot the loss curves\n",
    "plt.plot(epoch_count, np.array(torch.tensor(loss_values).numpy()), label=\"Train loss\")  \n",
    "# Convert `loss_values` (likely a Python list of PyTorch tensors) into a NumPy array\n",
    "# Plot training loss against the epochs using `epoch_count` as the x-axis.\n",
    "\n",
    "plt.plot(epoch_count, test_loss_values, label=\"Test loss\")  \n",
    "# Plot the test loss values against the epochs.\n",
    "# Ensure `test_loss_values` is a list or array of the same length as `epoch_count`.\n",
    "\n",
    "plt.title(\"Training and Test Loss Curves\")  \n",
    "# Set the title of the plot to describe what the graph represents.\n",
    "\n",
    "plt.ylabel(\"Loss\")  \n",
    "# Label the y-axis to indicate the values represent loss (e.g., error in prediction).\n",
    "\n",
    "plt.xlabel(\"Epochs\")  \n",
    "# Label the x-axis to indicate the values represent epochs (iterations of training).\n",
    "\n",
    "plt.legend()\n",
    "# Add a legend to distinguish between the training and test loss curves.\n",
    "\n",
    "plt.show() \n",
    "# Display the plot to visualize the loss curves."
   ]
  },
  {
   "cell_type": "code",
   "execution_count": 168,
   "metadata": {},
   "outputs": [],
   "source": [
    "with torch.inference_mode():\n",
    "    y_preds_new = model_0(X_test)"
   ]
  },
  {
   "cell_type": "code",
   "execution_count": 169,
   "metadata": {},
   "outputs": [
    {
     "data": {
      "text/plain": [
       "(0.7, 0.03)"
      ]
     },
     "execution_count": 169,
     "metadata": {},
     "output_type": "execute_result"
    }
   ],
   "source": [
    "weight, bias"
   ]
  },
  {
   "cell_type": "code",
   "execution_count": 170,
   "metadata": {},
   "outputs": [
    {
     "data": {
      "text/plain": [
       "OrderedDict([('weights', tensor([0.6914])), ('bias', tensor([0.0258]))])"
      ]
     },
     "execution_count": 170,
     "metadata": {},
     "output_type": "execute_result"
    }
   ],
   "source": [
    "model_0.state_dict()"
   ]
  },
  {
   "cell_type": "code",
   "execution_count": 171,
   "metadata": {},
   "outputs": [
    {
     "data": {
      "image/png": "[encoded data removed]",
      "text/plain": [
       "<Figure size 1000x700 with 1 Axes>"
      ]
     },
     "metadata": {},
     "output_type": "display_data"
    }
   ],
   "source": [
    "plot_predictions(predictions=y_preds_new)"
   ]
  },
  {
   "cell_type": "markdown",
   "metadata": {},
   "source": [
    "** Saving a model in pytorch\n",
    "*there are three main method you should know about for saving and load models i pytorch\n",
    "1. torch.save()' - allows you to save a pytorch object in pytorch- python pickle formate\n",
    "2. troch.load()' - allows you to load a save pytorch object\n",
    "3. troch.nn.module.load_state_dict()' - this allows to load  a model's save dictionary\n"
   ]
  },
  {
   "cell_type": "code",
   "execution_count": 172,
   "metadata": {},
   "outputs": [
    {
     "data": {
      "text/plain": [
       "OrderedDict([('weights', tensor([0.6914])), ('bias', tensor([0.0258]))])"
      ]
     },
     "execution_count": 172,
     "metadata": {},
     "output_type": "execute_result"
    }
   ],
   "source": [
    "model_0.state_dict()"
   ]
  },
  {
   "cell_type": "code",
   "execution_count": 173,
   "metadata": {},
   "outputs": [
    {
     "name": "stdout",
     "output_type": "stream",
     "text": [
      "Saving model to: models\\01_pytorch_workflow_model_0.path\n",
      "File successfully saved at: models\\01_pytorch_workflow_model_0.path\n"
     ]
    }
   ],
   "source": [
    "# Save our PyTorch model\n",
    "from pathlib import Path\n",
    "\n",
    "# 1. Create the models directory\n",
    "MODEL_PATH = Path(\"models\")\n",
    "MODEL_PATH.mkdir(parents=True, exist_ok=True)\n",
    "\n",
    "# 2. Create model save path\n",
    "MODEL_NAME = \"01_pytorch_workflow_model_0.path\"\n",
    "MODEL_SAVE_PATH = MODEL_PATH / MODEL_NAME\n",
    "\n",
    "# 3. Save the model state dict\n",
    "print(f\"Saving model to: {MODEL_SAVE_PATH}\")\n",
    "torch.save(obj=model_0.state_dict(),\n",
    "           f=MODEL_SAVE_PATH)\n",
    "\n",
    "# Check if the file exists\n",
    "if MODEL_SAVE_PATH.exists():\n",
    "    print(f\"File successfully saved at: {MODEL_SAVE_PATH}\")\n",
    "else:\n",
    "    print(f\"File not found at: {MODEL_SAVE_PATH}\")\n"
   ]
  },
  {
   "cell_type": "code",
   "execution_count": 174,
   "metadata": {},
   "outputs": [
    {
     "name": "stdout",
     "output_type": "stream",
     "text": [
      "c:\\Users\\saioa\\Documents\\Work  folder\n"
     ]
    }
   ],
   "source": [
    "import os\n",
    "print(os.getcwd())\n"
   ]
  },
  {
   "cell_type": "markdown",
   "metadata": {},
   "source": [
    "**Loading A pytorch model* \n",
    "Since we save our models state_dict() rather the entire model, well create a new instance of our model class and load the save \n",
    "state_dict() into it."
   ]
  },
  {
   "cell_type": "code",
   "execution_count": 175,
   "metadata": {},
   "outputs": [
    {
     "data": {
      "text/plain": [
       "OrderedDict([('weights', tensor([0.6914])), ('bias', tensor([0.0258]))])"
      ]
     },
     "execution_count": 175,
     "metadata": {},
     "output_type": "execute_result"
    }
   ],
   "source": [
    "model_0.state_dict()"
   ]
  },
  {
   "cell_type": "code",
   "execution_count": 176,
   "metadata": {},
   "outputs": [
    {
     "name": "stderr",
     "output_type": "stream",
     "text": [
      "C:\\Users\\saioa\\AppData\\Local\\Temp\\ipykernel_668\\3542236974.py:5: FutureWarning: You are using `torch.load` with `weights_only=False` (the current default value), which uses the default pickle module implicitly. It is possible to construct malicious pickle data which will execute arbitrary code during unpickling (See https://github.com/pytorch/pytorch/blob/main/SECURITY.md#untrusted-models for more details). In a future release, the default value for `weights_only` will be flipped to `True`. This limits the functions that could be executed during unpickling. Arbitrary objects will no longer be allowed to be loaded via this mode unless they are explicitly allowlisted by the user via `torch.serialization.add_safe_globals`. We recommend you start setting `weights_only=True` for any use case where you don't have full control of the loaded file. Please open an issue on GitHub for any issues related to this experimental feature.\n",
      "  loaded_model_0.load_state_dict(torch.load(f=MODEL_SAVE_PATH))\n"
     ]
    },
    {
     "data": {
      "text/plain": [
       "<All keys matched successfully>"
      ]
     },
     "execution_count": 176,
     "metadata": {},
     "output_type": "execute_result"
    }
   ],
   "source": [
    "# to load in a saved state_dict we have to instantiate a new instance of our model class\n",
    "loaded_model_0 = LinearRegressionModel()\n",
    "\n",
    "# load the save state_dict of the model_0 (this will update the new instance with update)\n",
    "loaded_model_0.load_state_dict(torch.load(f=MODEL_SAVE_PATH))\n"
   ]
  },
  {
   "cell_type": "code",
   "execution_count": 177,
   "metadata": {},
   "outputs": [
    {
     "data": {
      "text/plain": [
       "OrderedDict([('weights', tensor([0.6914])), ('bias', tensor([0.0258]))])"
      ]
     },
     "execution_count": 177,
     "metadata": {},
     "output_type": "execute_result"
    }
   ],
   "source": [
    "loaded_model_0.state_dict()"
   ]
  },
  {
   "cell_type": "code",
   "execution_count": 178,
   "metadata": {},
   "outputs": [
    {
     "data": {
      "text/plain": [
       "tensor([[0.5789],\n",
       "        [0.5927],\n",
       "        [0.6065],\n",
       "        [0.6204],\n",
       "        [0.6342],\n",
       "        [0.6480],\n",
       "        [0.6619],\n",
       "        [0.6757],\n",
       "        [0.6895],\n",
       "        [0.7033]])"
      ]
     },
     "execution_count": 178,
     "metadata": {},
     "output_type": "execute_result"
    }
   ],
   "source": [
    "# making some predictions with our loaded model \n",
    "loaded_model_0.eval()\n",
    "with torch.inference_mode():\n",
    "    loaded_model_preds = loaded_model_0(X_test)\n",
    "loaded_model_preds\n"
   ]
  },
  {
   "cell_type": "code",
   "execution_count": 179,
   "metadata": {},
   "outputs": [
    {
     "data": {
      "text/plain": [
       "tensor([[0.5789],\n",
       "        [0.5927],\n",
       "        [0.6065],\n",
       "        [0.6204],\n",
       "        [0.6342],\n",
       "        [0.6480],\n",
       "        [0.6619],\n",
       "        [0.6757],\n",
       "        [0.6895],\n",
       "        [0.7033]])"
      ]
     },
     "execution_count": 179,
     "metadata": {},
     "output_type": "execute_result"
    }
   ],
   "source": [
    "#1. make some models preds\n",
    "model_0.eval()\n",
    "with torch.inference_mode():\n",
    "    y_preds = model_0(X_test)\n",
    "    \n",
    "y_preds"
   ]
  },
  {
   "cell_type": "code",
   "execution_count": 180,
   "metadata": {},
   "outputs": [
    {
     "data": {
      "text/plain": [
       "tensor([[True],\n",
       "        [True],\n",
       "        [True],\n",
       "        [True],\n",
       "        [True],\n",
       "        [True],\n",
       "        [True],\n",
       "        [True],\n",
       "        [True],\n",
       "        [True]])"
      ]
     },
     "execution_count": 180,
     "metadata": {},
     "output_type": "execute_result"
    }
   ],
   "source": [
    "# compare loaded model preds with original model preds\n",
    "y_preds == loaded_model_preds"
   ]
  },
  {
   "cell_type": "markdown",
   "metadata": {},
   "source": [
    "6. PUTTING IT ALL TOGETHER\n",
    "LET'S GO BACK  THROUGH THE STEP ABOVE AND SEE IT ALL IN PLACE"
   ]
  },
  {
   "cell_type": "code",
   "execution_count": 181,
   "metadata": {},
   "outputs": [
    {
     "name": "stdout",
     "output_type": "stream",
     "text": [
      "2.4.1\n"
     ]
    }
   ],
   "source": [
    "# import pytorch and matplotlib\n",
    "import torch\n",
    "from torch import nn\n",
    "import matplotlib.pyplot as plt\n",
    "\n",
    "# check pytorch version\n",
    "print(torch.__version__)"
   ]
  },
  {
   "cell_type": "markdown",
   "metadata": {},
   "source": [
    "CREATE DIVICE-AGNOSTIC CODE\n",
    "this means if we've got access to a GPU, our code will use it(for potentially faster computing).\n",
    "if no GPU is available, the code will default to using CPU "
   ]
  },
  {
   "cell_type": "code",
   "execution_count": 182,
   "metadata": {},
   "outputs": [
    {
     "name": "stdout",
     "output_type": "stream",
     "text": [
      "Using device:cpu\n"
     ]
    }
   ],
   "source": [
    "# setup device agnostic code\n",
    "device = \"cuda\" if torch.cuda.is_available() else \"cpu\"\n",
    "print(f\"Using device:{device}\")"
   ]
  },
  {
   "cell_type": "markdown",
   "metadata": {},
   "source": [
    "6.1 DATA"
   ]
  },
  {
   "cell_type": "code",
   "execution_count": 183,
   "metadata": {},
   "outputs": [
    {
     "data": {
      "text/plain": [
       "(tensor([[0.0000],\n",
       "         [0.0200],\n",
       "         [0.0400],\n",
       "         [0.0600],\n",
       "         [0.0800],\n",
       "         [0.1000],\n",
       "         [0.1200],\n",
       "         [0.1400],\n",
       "         [0.1600],\n",
       "         [0.1800]]),\n",
       " tensor([[0.3000],\n",
       "         [0.3140],\n",
       "         [0.3280],\n",
       "         [0.3420],\n",
       "         [0.3560],\n",
       "         [0.3700],\n",
       "         [0.3840],\n",
       "         [0.3980],\n",
       "         [0.4120],\n",
       "         [0.4260]]))"
      ]
     },
     "execution_count": 183,
     "metadata": {},
     "output_type": "execute_result"
    }
   ],
   "source": [
    "# create some data using the linear regression formula of Y = weight * X + bias\n",
    "weight = 0.7\n",
    "bias = 0.3\n",
    "# Create renge values \n",
    "start = 0\n",
    "end = 1\n",
    "step = 0.02\n",
    "\n",
    "# create X and Y (features and labels)\n",
    "X = torch.arange(start,  end, step).unsqueeze(dim=1) # without unsqueeze, erors will pop\n",
    "y = weight * X + bias\n",
    "X[:10], y[:10]"
   ]
  },
  {
   "cell_type": "code",
   "execution_count": 184,
   "metadata": {},
   "outputs": [
    {
     "data": {
      "text/plain": [
       "(40, 40, 10, 10)"
      ]
     },
     "execution_count": 184,
     "metadata": {},
     "output_type": "execute_result"
    }
   ],
   "source": [
    "# split data\n",
    "train_split = int(0.8 * len(X))\n",
    "X_train, y_train  = X[:train_split], y[:train_split]\n",
    "X_test, y_test = X[train_split:], y[train_split:]\n",
    "len(X_train), len(y_train), len(X_test), len(y_test)"
   ]
  },
  {
   "cell_type": "code",
   "execution_count": 185,
   "metadata": {},
   "outputs": [
    {
     "data": {
      "image/png": "[encoded data removed]",
      "text/plain": [
       "<Figure size 1000x700 with 1 Axes>"
      ]
     },
     "metadata": {},
     "output_type": "display_data"
    }
   ],
   "source": [
    "# plot the data\n",
    "# Note if you dont have the plot_predictions() function loaded, this will error\n",
    "plot_predictions(X_train, y_train, X_test, y_test)"
   ]
  },
  {
   "cell_type": "markdown",
   "metadata": {},
   "source": [
    "* 6.2 BUILDING A PYTORCH LINEAR MODEL"
   ]
  },
  {
   "cell_type": "code",
   "execution_count": 186,
   "metadata": {},
   "outputs": [
    {
     "name": "stdout",
     "output_type": "stream",
     "text": [
      "LinearRegressionModelV2(\n",
      "  (linear_layer): Linear(in_features=1, out_features=1, bias=True)\n",
      ")\n",
      "OrderedDict([('linear_layer.weight', tensor([[0.7645]])), ('linear_layer.bias', tensor([0.8300]))])\n"
     ]
    }
   ],
   "source": [
    "import torch\n",
    "import torch.nn as nn\n",
    "\n",
    "# Create a Linear model by subclassing nn.Module\n",
    "class LinearRegressionModelV2(nn.Module):\n",
    "    def __init__(self):\n",
    "        super().__init__()\n",
    "        # Create a linear layer with 1 input feature and 1 output feature\n",
    "        self.linear_layer = nn.Linear(in_features=1, out_features=1)\n",
    "\n",
    "    # Define the forward pass\n",
    "    def forward(self, X: torch.Tensor) -> torch.Tensor:\n",
    "        return self.linear_layer(X)\n",
    "\n",
    "# Set the manual seed for reproducibility\n",
    "torch.manual_seed(42)\n",
    "\n",
    "# Initialize the model\n",
    "model_1 = LinearRegressionModelV2()\n",
    "\n",
    "# Print the model and its parameters\n",
    "print(model_1)  # To see the architecture\n",
    "print(model_1.state_dict())  # To see the initialized weights and biases\n",
    "\n",
    "    \n",
    "\n",
    "    "
   ]
  },
  {
   "cell_type": "code",
   "execution_count": 187,
   "metadata": {},
   "outputs": [
    {
     "data": {
      "text/plain": [
       "(tensor([[0.0000],\n",
       "         [0.0200],\n",
       "         [0.0400],\n",
       "         [0.0600],\n",
       "         [0.0800]]),\n",
       " tensor([[0.3000],\n",
       "         [0.3140],\n",
       "         [0.3280],\n",
       "         [0.3420],\n",
       "         [0.3560]]))"
      ]
     },
     "execution_count": 187,
     "metadata": {},
     "output_type": "execute_result"
    }
   ],
   "source": [
    "X_train[:5], y_train[:5]"
   ]
  },
  {
   "cell_type": "code",
   "execution_count": 188,
   "metadata": {},
   "outputs": [
    {
     "data": {
      "text/plain": [
       "device(type='cpu')"
      ]
     },
     "execution_count": 188,
     "metadata": {},
     "output_type": "execute_result"
    }
   ],
   "source": [
    "# check the model current device\n",
    "next(model_1.parameters()).device"
   ]
  },
  {
   "cell_type": "code",
   "execution_count": 189,
   "metadata": {},
   "outputs": [
    {
     "data": {
      "text/plain": [
       "LinearRegressionModelV2(\n",
       "  (linear_layer): Linear(in_features=1, out_features=1, bias=True)\n",
       ")"
      ]
     },
     "execution_count": 189,
     "metadata": {},
     "output_type": "execute_result"
    }
   ],
   "source": [
    "# set the model to use the target device\n",
    "# Set the device to GPU if available, otherwise use CPU\n",
    "device = torch.device(\"cuda\" if torch.cuda.is_available() else \"cpu\")\n",
    "\n",
    "# Now move the model to the specified device\n",
    "model_1.to(device)"
   ]
  },
  {
   "cell_type": "code",
   "execution_count": 190,
   "metadata": {},
   "outputs": [
    {
     "data": {
      "text/plain": [
       "OrderedDict([('linear_layer.weight', tensor([[0.7645]])),\n",
       "             ('linear_layer.bias', tensor([0.8300]))])"
      ]
     },
     "execution_count": 190,
     "metadata": {},
     "output_type": "execute_result"
    }
   ],
   "source": [
    "model_1.state_dict()"
   ]
  },
  {
   "cell_type": "markdown",
   "metadata": {},
   "source": [
    "6.3 TRAINING\n",
    "Fro training we used:\n",
    "* LOSS FUNCTION\n",
    "* OPTIMIZER\n",
    "* TRAINING LOOP\n",
    "* TESTING LOOP"
   ]
  },
  {
   "cell_type": "code",
   "execution_count": 191,
   "metadata": {},
   "outputs": [],
   "source": [
    "# SETUP LOSS FUNCTION  \n",
    "loss_fn = nn.L1Loss() # same as MAE\n",
    "  \n",
    "  # setup our optimizer\n",
    "optimizer = torch.optim.SGD(params=model_1.parameters(),\n",
    "                            lr=0.01)\n"
   ]
  },
  {
   "cell_type": "code",
   "execution_count": 192,
   "metadata": {},
   "outputs": [
    {
     "name": "stdout",
     "output_type": "stream",
     "text": [
      "Epoch: 0 | Train Loss: 0.5551779866218567 | Test Loss: 0.5739762187004089\n",
      "Epoch: 10 | Train Loss: 0.4399680495262146 | Test Loss: 0.4392663538455963\n",
      "Epoch: 20 | Train Loss: 0.3247582018375397 | Test Loss: 0.30455657839775085\n",
      "Epoch: 30 | Train Loss: 0.20954827964305878 | Test Loss: 0.16984674334526062\n",
      "Epoch: 40 | Train Loss: 0.09433844685554504 | Test Loss: 0.03513689711689949\n",
      "Epoch: 50 | Train Loss: 0.023886386305093765 | Test Loss: 0.04784906655550003\n",
      "Epoch: 60 | Train Loss: 0.0199567973613739 | Test Loss: 0.04580312222242355\n",
      "Epoch: 70 | Train Loss: 0.016517987474799156 | Test Loss: 0.0375305712223053\n",
      "Epoch: 80 | Train Loss: 0.013089170679450035 | Test Loss: 0.029944902285933495\n",
      "Epoch: 90 | Train Loss: 0.009653178043663502 | Test Loss: 0.02167237363755703\n",
      "Epoch: 100 | Train Loss: 0.006215679459273815 | Test Loss: 0.014086711220443249\n",
      "Epoch: 110 | Train Loss: 0.002787243574857712 | Test Loss: 0.005814164876937866\n",
      "Epoch: 120 | Train Loss: 0.0012645035749301314 | Test Loss: 0.013801807537674904\n",
      "Epoch: 130 | Train Loss: 0.0012645035749301314 | Test Loss: 0.013801807537674904\n",
      "Epoch: 140 | Train Loss: 0.0012645035749301314 | Test Loss: 0.013801807537674904\n",
      "Epoch: 150 | Train Loss: 0.0012645035749301314 | Test Loss: 0.013801807537674904\n",
      "Epoch: 160 | Train Loss: 0.0012645035749301314 | Test Loss: 0.013801807537674904\n",
      "Epoch: 170 | Train Loss: 0.0012645035749301314 | Test Loss: 0.013801807537674904\n",
      "Epoch: 180 | Train Loss: 0.0012645035749301314 | Test Loss: 0.013801807537674904\n",
      "Epoch: 190 | Train Loss: 0.0012645035749301314 | Test Loss: 0.013801807537674904\n"
     ]
    }
   ],
   "source": [
    "import torch\n",
    "import torch.optim as optim\n",
    "\n",
    "# Assuming model_1, X_train, y_train, X_test, y_test, loss_fn, and optimizer are already defined\n",
    "torch.manual_seed(42)\n",
    "\n",
    "epochs = 200\n",
    "\n",
    "# Initialize your optimizer, assuming you have a model and a loss function\n",
    "optimizer = optim.SGD(model_1.parameters(), lr=0.01)\n",
    "\n",
    "for epoch in range(epochs):\n",
    "    model_1.train()  # Set the model to training mode\n",
    "\n",
    "    # 1. Forward pass\n",
    "    y_pred = model_1(X_train)\n",
    "\n",
    "    # 2. Calculate the loss\n",
    "    loss = loss_fn(y_pred, y_train)\n",
    "\n",
    "    # 3. Zero gradients\n",
    "    optimizer.zero_grad()\n",
    "\n",
    "    # 4. Perform backpropagation\n",
    "    loss.backward()\n",
    "\n",
    "    # 5. Optimizer step\n",
    "    optimizer.step()\n",
    "\n",
    "    # Testing phase (every 10th epoch)\n",
    "    if epoch % 10 == 0:\n",
    "        model_1.eval()  # Set the model to evaluation mode\n",
    "        with torch.no_grad():  # Disable gradient computation for inference\n",
    "            test_pred = model_1(X_test)\n",
    "            test_loss = loss_fn(test_pred, y_test)\n",
    "\n",
    "        # Print the results\n",
    "        print(f\"Epoch: {epoch} | Train Loss: {loss.item()} | Test Loss: {test_loss.item()}\")\n",
    "\n",
    "    "
   ]
  },
  {
   "cell_type": "code",
   "execution_count": 193,
   "metadata": {},
   "outputs": [
    {
     "data": {
      "text/plain": [
       "OrderedDict([('linear_layer.weight', tensor([[0.6968]])),\n",
       "             ('linear_layer.bias', tensor([0.3025]))])"
      ]
     },
     "execution_count": 193,
     "metadata": {},
     "output_type": "execute_result"
    }
   ],
   "source": [
    "model_1.state_dict()"
   ]
  },
  {
   "cell_type": "code",
   "execution_count": 194,
   "metadata": {},
   "outputs": [
    {
     "data": {
      "text/plain": [
       "(0.7, 0.3)"
      ]
     },
     "execution_count": 194,
     "metadata": {},
     "output_type": "execute_result"
    }
   ],
   "source": [
    "weight, bias"
   ]
  },
  {
   "cell_type": "markdown",
   "metadata": {},
   "source": [
    "6.4  MARKING AND EVALUATING PREDICTIONS"
   ]
  },
  {
   "cell_type": "code",
   "execution_count": 195,
   "metadata": {},
   "outputs": [
    {
     "name": "stdout",
     "output_type": "stream",
     "text": [
      "tensor([[0.8600],\n",
      "        [0.8739],\n",
      "        [0.8878],\n",
      "        [0.9018],\n",
      "        [0.9157],\n",
      "        [0.9296],\n",
      "        [0.9436],\n",
      "        [0.9575],\n",
      "        [0.9714],\n",
      "        [0.9854]])\n"
     ]
    }
   ],
   "source": [
    "# turn the model into evaluation mode \n",
    "# make predictions on the test data\n",
    "with torch.inference_mode():  # No need to calculate gradients during inference\n",
    "    y_preds = model_1(X_test)  # Pass the input tensor to the model\n",
    "\n",
    "print(y_preds) \n"
   ]
  },
  {
   "cell_type": "code",
   "execution_count": 196,
   "metadata": {},
   "outputs": [
    {
     "data": {
      "image/png": "[encoded data removed]",
      "text/plain": [
       "<Figure size 1000x700 with 1 Axes>"
      ]
     },
     "metadata": {},
     "output_type": "display_data"
    }
   ],
   "source": [
    "# check out our model predictions visually\n",
    "plot_predictions(predictions=y_preds) "
   ]
  },
  {
   "cell_type": "code",
   "execution_count": 197,
   "metadata": {},
   "outputs": [
    {
     "name": "stdout",
     "output_type": "stream",
     "text": [
      "Saving model to: models\\01_pytorch_workflow_model_1.path\n",
      "File successfully saved at: models\\01_pytorch_workflow_model_1.path\n"
     ]
    }
   ],
   "source": [
    "# Save our PyTorch model\n",
    "from pathlib import Path\n",
    "\n",
    "# 1. Create the models directory\n",
    "MODEL_PATH = Path(\"models\")\n",
    "MODEL_PATH.mkdir(parents=True, exist_ok=True)\n",
    "\n",
    "# 2. Create model save path\n",
    "MODEL_NAME = \"01_pytorch_workflow_model_1.path\"\n",
    "MODEL_SAVE_PATH = MODEL_PATH / MODEL_NAME\n",
    "\n",
    "# 3. Save the model state dict\n",
    "print(f\"Saving model to: {MODEL_SAVE_PATH}\")\n",
    "torch.save(obj=model_1.state_dict(),\n",
    "           f=MODEL_SAVE_PATH)\n",
    "\n",
    "# Check if the file exists\n",
    "if MODEL_SAVE_PATH.exists():\n",
    "    print(f\"File successfully saved at: {MODEL_SAVE_PATH}\")\n",
    "else:\n",
    "    print(f\"File not found at: {MODEL_SAVE_PATH}\")"
   ]
  },
  {
   "cell_type": "code",
   "execution_count": 198,
   "metadata": {},
   "outputs": [
    {
     "name": "stdout",
     "output_type": "stream",
     "text": [
      "c:\\Users\\saioa\\Documents\\Work  folder\n"
     ]
    }
   ],
   "source": [
    "import os\n",
    "print(os.getcwd())"
   ]
  },
  {
   "cell_type": "code",
   "execution_count": null,
   "metadata": {},
   "outputs": [],
   "source": []
  },
  {
   "cell_type": "code",
   "execution_count": 199,
   "metadata": {},
   "outputs": [
    {
     "name": "stderr",
     "output_type": "stream",
     "text": [
      "C:\\Users\\saioa\\AppData\\Local\\Temp\\ipykernel_668\\2878768855.py:7: FutureWarning: You are using `torch.load` with `weights_only=False` (the current default value), which uses the default pickle module implicitly. It is possible to construct malicious pickle data which will execute arbitrary code during unpickling (See https://github.com/pytorch/pytorch/blob/main/SECURITY.md#untrusted-models for more details). In a future release, the default value for `weights_only` will be flipped to `True`. This limits the functions that could be executed during unpickling. Arbitrary objects will no longer be allowed to be loaded via this mode unless they are explicitly allowlisted by the user via `torch.serialization.add_safe_globals`. We recommend you start setting `weights_only=True` for any use case where you don't have full control of the loaded file. Please open an issue on GitHub for any issues related to this experimental feature.\n",
      "  loaded_model_1.load_state_dict(torch.load(f=MODEL_SAVE_PATH))\n"
     ]
    },
    {
     "data": {
      "text/plain": [
       "LinearRegressionModelV2(\n",
       "  (linear_layer): Linear(in_features=1, out_features=1, bias=True)\n",
       ")"
      ]
     },
     "execution_count": 199,
     "metadata": {},
     "output_type": "execute_result"
    }
   ],
   "source": [
    "# loading \n",
    "\n",
    "# to load in a saved state_dict we have to instantiate a new instance of our model class\n",
    "loaded_model_1 = LinearRegressionModelV2()\n",
    "\n",
    "# load the save state_dict of the model_0 (this will update the new instance with update)\n",
    "loaded_model_1.load_state_dict(torch.load(f=MODEL_SAVE_PATH))\n",
    "\n",
    "# puting the loaded model\n",
    "loaded_model_1.to(device)"
   ]
  },
  {
   "cell_type": "code",
   "execution_count": 200,
   "metadata": {},
   "outputs": [
    {
     "data": {
      "text/plain": [
       "device(type='cpu')"
      ]
     },
     "execution_count": 200,
     "metadata": {},
     "output_type": "execute_result"
    }
   ],
   "source": [
    "next(loaded_model_1.parameters()).device"
   ]
  },
  {
   "cell_type": "code",
   "execution_count": 201,
   "metadata": {},
   "outputs": [
    {
     "data": {
      "text/plain": [
       "OrderedDict([('linear_layer.weight', tensor([[0.6968]])),\n",
       "             ('linear_layer.bias', tensor([0.3025]))])"
      ]
     },
     "execution_count": 201,
     "metadata": {},
     "output_type": "execute_result"
    }
   ],
   "source": [
    "loaded_model_1.state_dict()"
   ]
  },
  {
   "cell_type": "code",
   "execution_count": 202,
   "metadata": {},
   "outputs": [
    {
     "data": {
      "text/plain": [
       "tensor([[True],\n",
       "        [True],\n",
       "        [True],\n",
       "        [True],\n",
       "        [True],\n",
       "        [True],\n",
       "        [True],\n",
       "        [True],\n",
       "        [True],\n",
       "        [True]])"
      ]
     },
     "execution_count": 202,
     "metadata": {},
     "output_type": "execute_result"
    }
   ],
   "source": [
    "# Evaluate loaded model \n",
    "loaded_model_1.eval()\n",
    "with torch.inference_mode():\n",
    "    loaded_model_1_preds = loaded_model_1(X_test)\n",
    "y_preds == loaded_model_1_preds"
   ]
  },
  {
   "cell_type": "markdown",
   "metadata": {},
   "source": [
    "Extra-curriculum\n",
    "Listen to The Unofficial PyTorch Optimization Loop Song (to help remember the steps in a PyTorch training/testing loop).\n",
    "Read What is torch.nn, really? by Jeremy Howard for a deeper understanding of how one of the most important modules in PyTorch works.\n",
    "Spend 10-minutes scrolling through and checking out the PyTorch documentation cheatsheet for all of the different PyTorch modules you might come across.\n",
    "Spend 10-minutes reading the loading and saving documentation on the PyTorch website to become more familiar with the different saving and loading options in PyTorch.\n",
    "Spend 1-2 hours reading/watching the following for an overview of the internals of gradient descent and backpropagation, the two main algorithms that have been working in the background to help our model learn.\n",
    "Wikipedia page for gradient descent\n",
    "Gradient Descent Algorithm — a deep dive by Robert Kwiatkowski\n",
    "Gradient descent, how neural networks learn video by 3Blue1Brown\n",
    "What is backpropagation really doing? video by 3Blue1Brown\n",
    "Backpropagation Wikipedia Page"
   ]
  },
  {
   "cell_type": "code",
   "execution_count": 203,
   "metadata": {},
   "outputs": [],
   "source": [
    "### Exercises &"
   ]
  }
 ],
 "metadata": {
  "kernelspec": {
   "display_name": "new_env",
   "language": "python",
   "name": "python3"
  },
  "language_info": {
   "codemirror_mode": {
    "name": "ipython",
    "version": 3
   },
   "file_extension": ".py",
   "mimetype": "text/x-python",
   "name": "python",
   "nbconvert_exporter": "python",
   "pygments_lexer": "ipython3",
   "version": "3.8.20"
  }
 },
 "nbformat": 4,
 "nbformat_minor": 2
}
