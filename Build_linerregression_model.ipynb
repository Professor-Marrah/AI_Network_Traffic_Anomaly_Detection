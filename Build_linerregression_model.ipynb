{
 "cells": [
  {
   "cell_type": "code",
   "execution_count": 16,
   "metadata": {},
   "outputs": [],
   "source": [
    "import torch\n",
    "from torch import nn  # nn contains all of PyTorch's building blocks for neural networks\n",
    "import matplotlib.pyplot as plt\n",
    "\n",
    "# Create known parameters for a simple linear regression\n",
    "weight = 0.7\n",
    "bias = 0.3\n",
    "start = 0\n",
    "end = 1\n",
    "step = 0.02\n",
    "X = torch.arange(start, end, step).unsqueeze(dim=1)  # Create input tensor X\n",
    "y = weight * X + bias  # Create output tensor y\n",
    "\n",
    "\n",
    "\n",
    "# Split the data into training and testing sets (80/20 split)\n",
    "train_split = int(0.8 * len(X))  # Calculate 80% of the length of X\n",
    "X_train, y_train = X[:train_split], y[:train_split]\n",
    "X_test, y_test = X[train_split:], y[train_split:]\n",
    "\n",
    "# 1 Gradient- https://www.youtube.com/watch?v=IHZwWFHWa-w\n",
    "# 2 Backpropagation- https://www.youtube.com/watch?v=Ilg3gGewQ5U https://youtu.be/IIg3gGewQ5U\n",
    "#create linear regression model class\n",
    "class linearRegressionModel(nn.Module): # <- almost everthing in th pytorch inherhits from nn.module\n",
    "    def __init__(self):\n",
    "        super().__init__()\n",
    "        self.weights = nn.Parameter(torch.rand(1, # <- start with random weight and try to adjust to the ideal weight\n",
    "                                               requires_grad=True, #<- can this parameter be updated via gradient descent?\n",
    "                                               dtype=torch.float)) #<- pytorch loves the datatype torch.float32\n",
    "        self.bias = nn.Parameter(torch.rand(1, # <- start with random weight and try to adjust to the ideal bias\n",
    "                                             requires_grad=True, #<- can this parameter be updated via gradient descent?\n",
    "                                             dtype=torch.float))  #<- pytorch loves the datatype torch.float32\n",
    "# foward method to define the computation in the model\n",
    "    def forward(self, x: torch.Tensor) -> torch.tensor: # <- \"X\" is the inpute data\n",
    "      return self.weights * X + self.bias # this is the linear regression formula\n",
    "        \n",
    "     "
   ]
  },
  {
   "cell_type": "code",
   "execution_count": null,
   "metadata": {},
   "outputs": [
    {
     "ename": "NameError",
     "evalue": "name 'model' is not defined",
     "output_type": "error",
     "traceback": [
      "\u001b[1;31m---------------------------------------------------------------------------\u001b[0m",
      "\u001b[1;31mNameError\u001b[0m                                 Traceback (most recent call last)",
      "Cell \u001b[1;32mIn[18], line 2\u001b[0m\n\u001b[0;32m      1\u001b[0m \u001b[38;5;66;03m# Generate predictions\u001b[39;00m\n\u001b[1;32m----> 2\u001b[0m y_preds \u001b[38;5;241m=\u001b[39m \u001b[43mmodel\u001b[49m(X_test)\u001b[38;5;241m.\u001b[39mdetach()  \u001b[38;5;66;03m# Detach from computation graph for plotting\u001b[39;00m\n\u001b[0;32m      4\u001b[0m \u001b[38;5;66;03m# Call the function with all required arguments\u001b[39;00m\n\u001b[0;32m      5\u001b[0m plot_predictions(\n\u001b[0;32m      6\u001b[0m     train_data\u001b[38;5;241m=\u001b[39mX_train, \n\u001b[0;32m      7\u001b[0m     train_labels\u001b[38;5;241m=\u001b[39my_train, \n\u001b[1;32m   (...)\u001b[0m\n\u001b[0;32m     10\u001b[0m     predictions\u001b[38;5;241m=\u001b[39my_preds\n\u001b[0;32m     11\u001b[0m )\n",
      "\u001b[1;31mNameError\u001b[0m: name 'model' is not defined"
     ]
    }
   ],
   "source": [
    "\n",
    "\n",
    "def plot_predictions(train_data, train_labels, test_data, test_labels, predictions=None):\n",
    "    \"\"\"\n",
    "    Plots training data, test data, and optionally predictions.\n",
    "\n",
    "    Args:\n",
    "    - train_data: Training input data.\n",
    "    - train_labels: Training target data.\n",
    "    - test_data: Testing input data.\n",
    "    - test_labels: Testing target data.\n",
    "    - predictions: Model predictions on the test data (optional).\n",
    "    \"\"\"\n",
    "    plt.figure(figsize=(8, 6))\n",
    "\n",
    "    # Plot training data\n",
    "    plt.scatter(train_data, train_labels, c=\"blue\", label=\"Training Data\")\n",
    "\n",
    "    # Plot testing data\n",
    "    plt.scatter(test_data, test_labels, c=\"green\", label=\"Testing Data\")\n",
    "\n",
    "    # Plot predictions if provided\n",
    "    if predictions is not None:\n",
    "        plt.scatter(test_data, predictions, c=\"red\", label=\"Predictions\")\n",
    "\n",
    "    plt.legend()\n",
    "    plt.title(\"Training Data, Testing Data, and Predictions\")\n",
    "    plt.xlabel(\"X\")\n",
    "    plt.ylabel(\"y\")\n",
    "    plt.show()\n",
    "\n",
    "\n"
   ]
  },
  {
   "cell_type": "markdown",
   "metadata": {},
   "source": [
    "**Checking the contents of our pytorch Model\n",
    "now we've created a model, lets see whats inside...\n",
    "no we can check our model parameters or whats inside our model uing .parameters().\n"
   ]
  },
  {
   "cell_type": "code",
   "execution_count": 8,
   "metadata": {},
   "outputs": [
    {
     "data": {
      "text/plain": [
       "[Parameter containing:\n",
       " tensor([0.8823], requires_grad=True),\n",
       " Parameter containing:\n",
       " tensor([0.9150], requires_grad=True)]"
      ]
     },
     "execution_count": 8,
     "metadata": {},
     "output_type": "execute_result"
    }
   ],
   "source": [
    "# create a random see\n",
    "torch.manual_seed(42)\n",
    "#creaate an instance of the model (this is a subclllass of nn.module)\n",
    "model_0 = linearRegressionModel()\n",
    "# check out the parameter\n",
    "list(model_0.parameters())\n",
    "\n"
   ]
  },
  {
   "cell_type": "code",
   "execution_count": 3,
   "metadata": {},
   "outputs": [
    {
     "data": {
      "text/plain": [
       "OrderedDict([('weights', tensor([0.8823])), ('bias', tensor([0.9150]))])"
      ]
     },
     "execution_count": 3,
     "metadata": {},
     "output_type": "execute_result"
    }
   ],
   "source": [
    "# list named parameters\n",
    "model_0.state_dict()"
   ]
  },
  {
   "cell_type": "markdown",
   "metadata": {},
   "source": [
    "** Making prediction using torch.inference_mode()\n",
    "to check models predictive power, lets see how well it predicts y_test base on x_test\n",
    "when we pass through our model, its going to run it through the foward() method.\n"
   ]
  },
  {
   "cell_type": "markdown",
   "metadata": {},
   "source": [
    " ## making prediction using torch.inference_mode()\n",
    " # to check our miodels predictive power, lets see how well it predicts y_test based on x_test.\n",
    " # when we pass data through our model, its going to run through the foward() method."
   ]
  },
  {
   "cell_type": "code",
   "execution_count": 9,
   "metadata": {},
   "outputs": [
    {
     "name": "stdout",
     "output_type": "stream",
     "text": [
      "tensor([[0.9150],\n",
      "        [0.9326],\n",
      "        [0.9503],\n",
      "        [0.9679],\n",
      "        [0.9856],\n",
      "        [1.0032],\n",
      "        [1.0209],\n",
      "        [1.0385],\n",
      "        [1.0562],\n",
      "        [1.0738],\n",
      "        [1.0915],\n",
      "        [1.1091],\n",
      "        [1.1267],\n",
      "        [1.1444],\n",
      "        [1.1620],\n",
      "        [1.1797],\n",
      "        [1.1973],\n",
      "        [1.2150],\n",
      "        [1.2326],\n",
      "        [1.2503],\n",
      "        [1.2679],\n",
      "        [1.2856],\n",
      "        [1.3032],\n",
      "        [1.3208],\n",
      "        [1.3385],\n",
      "        [1.3561],\n",
      "        [1.3738],\n",
      "        [1.3914],\n",
      "        [1.4091],\n",
      "        [1.4267],\n",
      "        [1.4444],\n",
      "        [1.4620],\n",
      "        [1.4797],\n",
      "        [1.4973],\n",
      "        [1.5149],\n",
      "        [1.5326],\n",
      "        [1.5502],\n",
      "        [1.5679],\n",
      "        [1.5855],\n",
      "        [1.6032],\n",
      "        [1.6208],\n",
      "        [1.6385],\n",
      "        [1.6561],\n",
      "        [1.6738],\n",
      "        [1.6914],\n",
      "        [1.7090],\n",
      "        [1.7267],\n",
      "        [1.7443],\n",
      "        [1.7620],\n",
      "        [1.7796]])\n"
     ]
    }
   ],
   "source": [
    "# Make predictions with the model in inference mode\n",
    "with torch.inference_mode():\n",
    "    y_preds = model_0(X_test)\n",
    "\n",
    "# Print the predictions\n",
    "print(y_preds)\n"
   ]
  },
  {
   "cell_type": "code",
   "execution_count": 15,
   "metadata": {},
   "outputs": [
    {
     "ename": "TypeError",
     "evalue": "plot_predictions() missing 4 required positional arguments: 'train_data', 'train_labels', 'test_data', and 'test_labels'",
     "output_type": "error",
     "traceback": [
      "\u001b[1;31m---------------------------------------------------------------------------\u001b[0m",
      "\u001b[1;31mTypeError\u001b[0m                                 Traceback (most recent call last)",
      "Cell \u001b[1;32mIn[15], line 1\u001b[0m\n\u001b[1;32m----> 1\u001b[0m \u001b[43mplot_predictions\u001b[49m\u001b[43m(\u001b[49m\u001b[43mpredictions\u001b[49m\u001b[38;5;241;43m=\u001b[39;49m\u001b[43my_preds\u001b[49m\u001b[43m)\u001b[49m\n",
      "\u001b[1;31mTypeError\u001b[0m: plot_predictions() missing 4 required positional arguments: 'train_data', 'train_labels', 'test_data', and 'test_labels'"
     ]
    }
   ],
   "source": [
    "plot_predictions(predictions=y_preds)"
   ]
  },
  {
   "cell_type": "code",
   "execution_count": null,
   "metadata": {},
   "outputs": [],
   "source": []
  },
  {
   "cell_type": "code",
   "execution_count": null,
   "metadata": {},
   "outputs": [],
   "source": []
  }
 ],
 "metadata": {
  "kernelspec": {
   "display_name": "new_env",
   "language": "python",
   "name": "python3"
  },
  "language_info": {
   "codemirror_mode": {
    "name": "ipython",
    "version": 3
   },
   "file_extension": ".py",
   "mimetype": "text/x-python",
   "name": "python",
   "nbconvert_exporter": "python",
   "pygments_lexer": "ipython3",
   "version": "3.8.20"
  }
 },
 "nbformat": 4,
 "nbformat_minor": 2
}
